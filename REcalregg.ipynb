{
 "cells": [
  {
   "cell_type": "code",
   "execution_count": 50,
   "id": "c5e39e9a-58d5-492c-95d3-fca71bb4ac08",
   "metadata": {},
   "outputs": [],
   "source": [
    "import pandas as pd\n",
    "import seaborn as sns\n",
    "import numpy as np\n",
    "from sklearn.model_selection import train_test_split\n",
    "from sklearn.linear_model import LinearRegression\n",
    "from sklearn import metrics\n",
    "from sklearn.model_selection import cross_val_score,KFold"
   ]
  },
  {
   "cell_type": "code",
   "execution_count": 2,
   "id": "461d67eb-7546-47c9-8298-00de1071d945",
   "metadata": {},
   "outputs": [],
   "source": [
    "exercise=pd.read_csv(\"C:\\\\Users\\\\DELL\\\\Desktop\\\\Project 2 RE\\\\exercise.csv\")\n",
    "calories=pd.read_csv('C:\\\\Users\\\\DELL\\\\Desktop\\\\Project 2 RE\\\\calories.csv')"
   ]
  },
  {
   "cell_type": "code",
   "execution_count": 3,
   "id": "29e98371-0a97-4b90-8adc-08bf3755459a",
   "metadata": {},
   "outputs": [
    {
     "data": {
      "text/plain": [
       "(15000, 8)"
      ]
     },
     "execution_count": 3,
     "metadata": {},
     "output_type": "execute_result"
    }
   ],
   "source": [
    "exercise.shape\n",
    "# here we have imported the exercise data "
   ]
  },
  {
   "cell_type": "code",
   "execution_count": 4,
   "id": "4c0d94aa-a4ae-4840-b71b-a917cfc9a467",
   "metadata": {},
   "outputs": [
    {
     "data": {
      "text/plain": [
       "User_ID       0\n",
       "Gender        0\n",
       "Age           0\n",
       "Height        0\n",
       "Weight        5\n",
       "Duration      0\n",
       "Heart_Rate    0\n",
       "Body_Temp     0\n",
       "dtype: int64"
      ]
     },
     "execution_count": 4,
     "metadata": {},
     "output_type": "execute_result"
    }
   ],
   "source": [
    "exercise.isnull().sum()"
   ]
  },
  {
   "cell_type": "code",
   "execution_count": 5,
   "id": "8c50653d-9b6c-4ce2-b4eb-27eb16d6e945",
   "metadata": {},
   "outputs": [
    {
     "data": {
      "text/html": [
       "<div>\n",
       "<style scoped>\n",
       "    .dataframe tbody tr th:only-of-type {\n",
       "        vertical-align: middle;\n",
       "    }\n",
       "\n",
       "    .dataframe tbody tr th {\n",
       "        vertical-align: top;\n",
       "    }\n",
       "\n",
       "    .dataframe thead th {\n",
       "        text-align: right;\n",
       "    }\n",
       "</style>\n",
       "<table border=\"1\" class=\"dataframe\">\n",
       "  <thead>\n",
       "    <tr style=\"text-align: right;\">\n",
       "      <th></th>\n",
       "      <th>User_ID</th>\n",
       "      <th>Gender</th>\n",
       "      <th>Age</th>\n",
       "      <th>Height</th>\n",
       "      <th>Weight</th>\n",
       "      <th>Duration</th>\n",
       "      <th>Heart_Rate</th>\n",
       "      <th>Body_Temp</th>\n",
       "    </tr>\n",
       "  </thead>\n",
       "  <tbody>\n",
       "    <tr>\n",
       "      <th>6637</th>\n",
       "      <td>16768990</td>\n",
       "      <td>female</td>\n",
       "      <td>25</td>\n",
       "      <td>167</td>\n",
       "      <td>64.0</td>\n",
       "      <td>20</td>\n",
       "      <td>100</td>\n",
       "      <td>40.4</td>\n",
       "    </tr>\n",
       "    <tr>\n",
       "      <th>10292</th>\n",
       "      <td>15853624</td>\n",
       "      <td>male</td>\n",
       "      <td>27</td>\n",
       "      <td>203</td>\n",
       "      <td>98.0</td>\n",
       "      <td>24</td>\n",
       "      <td>90</td>\n",
       "      <td>40.7</td>\n",
       "    </tr>\n",
       "    <tr>\n",
       "      <th>8004</th>\n",
       "      <td>19214945</td>\n",
       "      <td>female</td>\n",
       "      <td>64</td>\n",
       "      <td>170</td>\n",
       "      <td>67.0</td>\n",
       "      <td>2</td>\n",
       "      <td>90</td>\n",
       "      <td>37.9</td>\n",
       "    </tr>\n",
       "    <tr>\n",
       "      <th>5555</th>\n",
       "      <td>14936913</td>\n",
       "      <td>male</td>\n",
       "      <td>20</td>\n",
       "      <td>190</td>\n",
       "      <td>93.0</td>\n",
       "      <td>16</td>\n",
       "      <td>99</td>\n",
       "      <td>40.2</td>\n",
       "    </tr>\n",
       "    <tr>\n",
       "      <th>11245</th>\n",
       "      <td>11300613</td>\n",
       "      <td>male</td>\n",
       "      <td>74</td>\n",
       "      <td>201</td>\n",
       "      <td>108.0</td>\n",
       "      <td>5</td>\n",
       "      <td>87</td>\n",
       "      <td>38.9</td>\n",
       "    </tr>\n",
       "    <tr>\n",
       "      <th>6865</th>\n",
       "      <td>19376524</td>\n",
       "      <td>male</td>\n",
       "      <td>57</td>\n",
       "      <td>186</td>\n",
       "      <td>89.0</td>\n",
       "      <td>9</td>\n",
       "      <td>83</td>\n",
       "      <td>39.6</td>\n",
       "    </tr>\n",
       "    <tr>\n",
       "      <th>2793</th>\n",
       "      <td>14254315</td>\n",
       "      <td>male</td>\n",
       "      <td>73</td>\n",
       "      <td>170</td>\n",
       "      <td>75.0</td>\n",
       "      <td>5</td>\n",
       "      <td>89</td>\n",
       "      <td>38.9</td>\n",
       "    </tr>\n",
       "    <tr>\n",
       "      <th>9928</th>\n",
       "      <td>12143206</td>\n",
       "      <td>male</td>\n",
       "      <td>49</td>\n",
       "      <td>184</td>\n",
       "      <td>91.0</td>\n",
       "      <td>14</td>\n",
       "      <td>96</td>\n",
       "      <td>40.1</td>\n",
       "    </tr>\n",
       "    <tr>\n",
       "      <th>1562</th>\n",
       "      <td>16323950</td>\n",
       "      <td>female</td>\n",
       "      <td>77</td>\n",
       "      <td>150</td>\n",
       "      <td>55.0</td>\n",
       "      <td>5</td>\n",
       "      <td>80</td>\n",
       "      <td>39.0</td>\n",
       "    </tr>\n",
       "    <tr>\n",
       "      <th>7328</th>\n",
       "      <td>18280227</td>\n",
       "      <td>male</td>\n",
       "      <td>22</td>\n",
       "      <td>194</td>\n",
       "      <td>92.0</td>\n",
       "      <td>17</td>\n",
       "      <td>97</td>\n",
       "      <td>40.3</td>\n",
       "    </tr>\n",
       "  </tbody>\n",
       "</table>\n",
       "</div>"
      ],
      "text/plain": [
       "        User_ID  Gender  Age  Height  Weight  Duration  Heart_Rate  Body_Temp\n",
       "6637   16768990  female   25     167    64.0        20         100       40.4\n",
       "10292  15853624    male   27     203    98.0        24          90       40.7\n",
       "8004   19214945  female   64     170    67.0         2          90       37.9\n",
       "5555   14936913    male   20     190    93.0        16          99       40.2\n",
       "11245  11300613    male   74     201   108.0         5          87       38.9\n",
       "6865   19376524    male   57     186    89.0         9          83       39.6\n",
       "2793   14254315    male   73     170    75.0         5          89       38.9\n",
       "9928   12143206    male   49     184    91.0        14          96       40.1\n",
       "1562   16323950  female   77     150    55.0         5          80       39.0\n",
       "7328   18280227    male   22     194    92.0        17          97       40.3"
      ]
     },
     "execution_count": 5,
     "metadata": {},
     "output_type": "execute_result"
    }
   ],
   "source": [
    "exercise.sample(10)\n",
    "# this will require one hot encoding for the nominal categorical column GENDER \n",
    "# I ALSO NEED TO USE SIMPLE IMPUTATION TO FILL NAN ENTRIES \n",
    "# ALSO IT WILL REQUIRE FEATURE SCALING AND I WILL TRY BOTH STANDARDSCALER AND MINMAXSCALER(NORAMLISATION)\n",
    "# I SUSPECT HIGH MULTICOLINEARITY SO IT REQUIRES FEATURE EXTRACTION AND FEATURE SELECTION TOO\n",
    "# THEN I WILL HAVE TO APPLY DIFFERENT TYPES OF ML MODELS AND CEHCK FOR ACCURACY USING R^2 AND ADUSTED R^2 OR MAE\n"
   ]
  },
  {
   "cell_type": "code",
   "execution_count": 6,
   "id": "deeae0e1-5b4e-43c2-8763-8125bbbddbbd",
   "metadata": {},
   "outputs": [
    {
     "data": {
      "text/html": [
       "<div>\n",
       "<style scoped>\n",
       "    .dataframe tbody tr th:only-of-type {\n",
       "        vertical-align: middle;\n",
       "    }\n",
       "\n",
       "    .dataframe tbody tr th {\n",
       "        vertical-align: top;\n",
       "    }\n",
       "\n",
       "    .dataframe thead th {\n",
       "        text-align: right;\n",
       "    }\n",
       "</style>\n",
       "<table border=\"1\" class=\"dataframe\">\n",
       "  <thead>\n",
       "    <tr style=\"text-align: right;\">\n",
       "      <th></th>\n",
       "      <th>User_ID</th>\n",
       "      <th>Calories</th>\n",
       "    </tr>\n",
       "  </thead>\n",
       "  <tbody>\n",
       "    <tr>\n",
       "      <th>0</th>\n",
       "      <td>14733363</td>\n",
       "      <td>231.0</td>\n",
       "    </tr>\n",
       "    <tr>\n",
       "      <th>1</th>\n",
       "      <td>14861698</td>\n",
       "      <td>66.0</td>\n",
       "    </tr>\n",
       "    <tr>\n",
       "      <th>2</th>\n",
       "      <td>11179863</td>\n",
       "      <td>26.0</td>\n",
       "    </tr>\n",
       "    <tr>\n",
       "      <th>3</th>\n",
       "      <td>16180408</td>\n",
       "      <td>71.0</td>\n",
       "    </tr>\n",
       "    <tr>\n",
       "      <th>4</th>\n",
       "      <td>17771927</td>\n",
       "      <td>35.0</td>\n",
       "    </tr>\n",
       "  </tbody>\n",
       "</table>\n",
       "</div>"
      ],
      "text/plain": [
       "    User_ID  Calories\n",
       "0  14733363     231.0\n",
       "1  14861698      66.0\n",
       "2  11179863      26.0\n",
       "3  16180408      71.0\n",
       "4  17771927      35.0"
      ]
     },
     "execution_count": 6,
     "metadata": {},
     "output_type": "execute_result"
    }
   ],
   "source": [
    "calories.head()\n",
    "# and here we have the correspodnding calories data and note that User_ID of both the columns sync well\n",
    "\n"
   ]
  },
  {
   "cell_type": "code",
   "execution_count": 7,
   "id": "5ccac1a2-03c1-458d-9424-371ba546fcc5",
   "metadata": {},
   "outputs": [],
   "source": [
    "# let us firstly combine both the dataframes\n",
    "df=pd.concat([exercise,calories['Calories']],axis=1)\n"
   ]
  },
  {
   "cell_type": "code",
   "execution_count": 8,
   "id": "82dc6060-bf8f-43a2-a13b-141ad5132a54",
   "metadata": {},
   "outputs": [
    {
     "data": {
      "text/plain": [
       "(15000, 9)"
      ]
     },
     "execution_count": 8,
     "metadata": {},
     "output_type": "execute_result"
    }
   ],
   "source": [
    "df.shape"
   ]
  },
  {
   "cell_type": "code",
   "execution_count": 9,
   "id": "2ba004d9-2e3e-46ef-bd4f-7f5e66238329",
   "metadata": {},
   "outputs": [
    {
     "data": {
      "text/html": [
       "<div>\n",
       "<style scoped>\n",
       "    .dataframe tbody tr th:only-of-type {\n",
       "        vertical-align: middle;\n",
       "    }\n",
       "\n",
       "    .dataframe tbody tr th {\n",
       "        vertical-align: top;\n",
       "    }\n",
       "\n",
       "    .dataframe thead th {\n",
       "        text-align: right;\n",
       "    }\n",
       "</style>\n",
       "<table border=\"1\" class=\"dataframe\">\n",
       "  <thead>\n",
       "    <tr style=\"text-align: right;\">\n",
       "      <th></th>\n",
       "      <th>User_ID</th>\n",
       "      <th>Gender</th>\n",
       "      <th>Age</th>\n",
       "      <th>Height</th>\n",
       "      <th>Weight</th>\n",
       "      <th>Duration</th>\n",
       "      <th>Heart_Rate</th>\n",
       "      <th>Body_Temp</th>\n",
       "      <th>Calories</th>\n",
       "    </tr>\n",
       "  </thead>\n",
       "  <tbody>\n",
       "    <tr>\n",
       "      <th>0</th>\n",
       "      <td>14733363</td>\n",
       "      <td>male</td>\n",
       "      <td>68</td>\n",
       "      <td>190</td>\n",
       "      <td>94.0</td>\n",
       "      <td>29</td>\n",
       "      <td>105</td>\n",
       "      <td>40.8</td>\n",
       "      <td>231.0</td>\n",
       "    </tr>\n",
       "    <tr>\n",
       "      <th>1</th>\n",
       "      <td>14861698</td>\n",
       "      <td>female</td>\n",
       "      <td>20</td>\n",
       "      <td>166</td>\n",
       "      <td>60.0</td>\n",
       "      <td>14</td>\n",
       "      <td>94</td>\n",
       "      <td>40.3</td>\n",
       "      <td>66.0</td>\n",
       "    </tr>\n",
       "    <tr>\n",
       "      <th>2</th>\n",
       "      <td>11179863</td>\n",
       "      <td>male</td>\n",
       "      <td>69</td>\n",
       "      <td>179</td>\n",
       "      <td>79.0</td>\n",
       "      <td>5</td>\n",
       "      <td>88</td>\n",
       "      <td>38.7</td>\n",
       "      <td>26.0</td>\n",
       "    </tr>\n",
       "    <tr>\n",
       "      <th>3</th>\n",
       "      <td>16180408</td>\n",
       "      <td>female</td>\n",
       "      <td>34</td>\n",
       "      <td>179</td>\n",
       "      <td>71.0</td>\n",
       "      <td>13</td>\n",
       "      <td>100</td>\n",
       "      <td>40.5</td>\n",
       "      <td>71.0</td>\n",
       "    </tr>\n",
       "    <tr>\n",
       "      <th>4</th>\n",
       "      <td>17771927</td>\n",
       "      <td>female</td>\n",
       "      <td>27</td>\n",
       "      <td>154</td>\n",
       "      <td>58.0</td>\n",
       "      <td>10</td>\n",
       "      <td>81</td>\n",
       "      <td>39.8</td>\n",
       "      <td>35.0</td>\n",
       "    </tr>\n",
       "  </tbody>\n",
       "</table>\n",
       "</div>"
      ],
      "text/plain": [
       "    User_ID  Gender  Age  Height  Weight  Duration  Heart_Rate  Body_Temp  \\\n",
       "0  14733363    male   68     190    94.0        29         105       40.8   \n",
       "1  14861698  female   20     166    60.0        14          94       40.3   \n",
       "2  11179863    male   69     179    79.0         5          88       38.7   \n",
       "3  16180408  female   34     179    71.0        13         100       40.5   \n",
       "4  17771927  female   27     154    58.0        10          81       39.8   \n",
       "\n",
       "   Calories  \n",
       "0     231.0  \n",
       "1      66.0  \n",
       "2      26.0  \n",
       "3      71.0  \n",
       "4      35.0  "
      ]
     },
     "execution_count": 9,
     "metadata": {},
     "output_type": "execute_result"
    }
   ],
   "source": [
    "df.head()"
   ]
  },
  {
   "cell_type": "markdown",
   "id": "26a6647e-d4ca-45d3-ac6d-8f33b67735f9",
   "metadata": {},
   "source": [
    "# EDA"
   ]
  },
  {
   "cell_type": "code",
   "execution_count": null,
   "id": "cd90c72f-d72a-45bb-bf95-00e7c5b35a81",
   "metadata": {},
   "outputs": [],
   "source": []
  },
  {
   "cell_type": "code",
   "execution_count": 10,
   "id": "0f399528-a5de-4be3-ad5c-4ef61b363d51",
   "metadata": {},
   "outputs": [],
   "source": [
    "# firstly we will drop columns which out insignificant for the model training \n",
    "df.drop(columns=['User_ID'],inplace=True)"
   ]
  },
  {
   "cell_type": "code",
   "execution_count": 11,
   "id": "14ef5784-479e-42a6-8688-f122d6087ed9",
   "metadata": {},
   "outputs": [
    {
     "data": {
      "text/html": [
       "<div>\n",
       "<style scoped>\n",
       "    .dataframe tbody tr th:only-of-type {\n",
       "        vertical-align: middle;\n",
       "    }\n",
       "\n",
       "    .dataframe tbody tr th {\n",
       "        vertical-align: top;\n",
       "    }\n",
       "\n",
       "    .dataframe thead th {\n",
       "        text-align: right;\n",
       "    }\n",
       "</style>\n",
       "<table border=\"1\" class=\"dataframe\">\n",
       "  <thead>\n",
       "    <tr style=\"text-align: right;\">\n",
       "      <th></th>\n",
       "      <th>Gender</th>\n",
       "      <th>Age</th>\n",
       "      <th>Height</th>\n",
       "      <th>Weight</th>\n",
       "      <th>Duration</th>\n",
       "      <th>Heart_Rate</th>\n",
       "      <th>Body_Temp</th>\n",
       "      <th>Calories</th>\n",
       "    </tr>\n",
       "  </thead>\n",
       "  <tbody>\n",
       "    <tr>\n",
       "      <th>0</th>\n",
       "      <td>male</td>\n",
       "      <td>68</td>\n",
       "      <td>190</td>\n",
       "      <td>94.0</td>\n",
       "      <td>29</td>\n",
       "      <td>105</td>\n",
       "      <td>40.8</td>\n",
       "      <td>231.0</td>\n",
       "    </tr>\n",
       "    <tr>\n",
       "      <th>1</th>\n",
       "      <td>female</td>\n",
       "      <td>20</td>\n",
       "      <td>166</td>\n",
       "      <td>60.0</td>\n",
       "      <td>14</td>\n",
       "      <td>94</td>\n",
       "      <td>40.3</td>\n",
       "      <td>66.0</td>\n",
       "    </tr>\n",
       "    <tr>\n",
       "      <th>2</th>\n",
       "      <td>male</td>\n",
       "      <td>69</td>\n",
       "      <td>179</td>\n",
       "      <td>79.0</td>\n",
       "      <td>5</td>\n",
       "      <td>88</td>\n",
       "      <td>38.7</td>\n",
       "      <td>26.0</td>\n",
       "    </tr>\n",
       "    <tr>\n",
       "      <th>3</th>\n",
       "      <td>female</td>\n",
       "      <td>34</td>\n",
       "      <td>179</td>\n",
       "      <td>71.0</td>\n",
       "      <td>13</td>\n",
       "      <td>100</td>\n",
       "      <td>40.5</td>\n",
       "      <td>71.0</td>\n",
       "    </tr>\n",
       "    <tr>\n",
       "      <th>4</th>\n",
       "      <td>female</td>\n",
       "      <td>27</td>\n",
       "      <td>154</td>\n",
       "      <td>58.0</td>\n",
       "      <td>10</td>\n",
       "      <td>81</td>\n",
       "      <td>39.8</td>\n",
       "      <td>35.0</td>\n",
       "    </tr>\n",
       "  </tbody>\n",
       "</table>\n",
       "</div>"
      ],
      "text/plain": [
       "   Gender  Age  Height  Weight  Duration  Heart_Rate  Body_Temp  Calories\n",
       "0    male   68     190    94.0        29         105       40.8     231.0\n",
       "1  female   20     166    60.0        14          94       40.3      66.0\n",
       "2    male   69     179    79.0         5          88       38.7      26.0\n",
       "3  female   34     179    71.0        13         100       40.5      71.0\n",
       "4  female   27     154    58.0        10          81       39.8      35.0"
      ]
     },
     "execution_count": 11,
     "metadata": {},
     "output_type": "execute_result"
    }
   ],
   "source": [
    "df.head()\n",
    "# so we have 8 columns now"
   ]
  },
  {
   "cell_type": "code",
   "execution_count": 12,
   "id": "28f651f5-6972-4c8a-ba5e-5da3100d2cbb",
   "metadata": {},
   "outputs": [],
   "source": [
    "from sklearn.model_selection import train_test_split\n",
    "X_train,X_test,Y_train,Y_test=train_test_split(df.iloc[:,0:7],df.iloc[:,7:8])"
   ]
  },
  {
   "cell_type": "markdown",
   "id": "b293ee66-8b40-4689-9731-fccc5ee54d3e",
   "metadata": {},
   "source": [
    "# FEATURE ENGINEERING"
   ]
  },
  {
   "cell_type": "code",
   "execution_count": 13,
   "id": "0c31db05-d119-43e4-ae19-ee727d9c617d",
   "metadata": {},
   "outputs": [],
   "source": [
    "#simple imputer\n",
    "#one hot encoding \n",
    "# let us do this with the help of column transformer \n",
    "from sklearn.compose import ColumnTransformer \n",
    "from sklearn.impute import SimpleImputer\n",
    "from sklearn.preprocessing import OneHotEncoder"
   ]
  },
  {
   "cell_type": "code",
   "execution_count": 14,
   "id": "eb928802-c340-4ddf-ba30-1eb821ed3765",
   "metadata": {},
   "outputs": [],
   "source": [
    "transformer=ColumnTransformer(transformers=[('tnf2',OneHotEncoder(drop='first',sparse_output=False),['Gender']),('tnf1',SimpleImputer(),['Weight'])],remainder='passthrough')"
   ]
  },
  {
   "cell_type": "code",
   "execution_count": 15,
   "id": "97d98122-cc2b-4762-b01f-dfc23f569a27",
   "metadata": {},
   "outputs": [],
   "source": [
    "# I WILL HAVE TO DO THREE THINGS \n",
    "# ONE HOT ENCODING \n",
    "# SCALING (STANDARDISATION OR NORMALISATION )\n",
    "# SIMPLE IMPUTING   \n",
    "X_train__=transformer.fit_transform(X_train)\n",
    "X_test__=transformer.fit_transform(X_test)"
   ]
  },
  {
   "cell_type": "code",
   "execution_count": 16,
   "id": "d23ae199-f45a-4605-968c-55a1b5a87ddd",
   "metadata": {},
   "outputs": [],
   "source": [
    "\n",
    "X_train_=pd.DataFrame(X_train__,columns=['Gender','Weight','Age','Height','Duration','Heart_Rate','Body_Temp'])\n",
    "X_test_=pd.DataFrame(X_test__,columns=['Gender','Weight','Age','Height','Duration','Heart_Rate','Body_Temp'])"
   ]
  },
  {
   "cell_type": "code",
   "execution_count": 17,
   "id": "64e20817-d295-4544-8ccd-b3f61ca4a160",
   "metadata": {},
   "outputs": [
    {
     "data": {
      "text/html": [
       "<div>\n",
       "<style scoped>\n",
       "    .dataframe tbody tr th:only-of-type {\n",
       "        vertical-align: middle;\n",
       "    }\n",
       "\n",
       "    .dataframe tbody tr th {\n",
       "        vertical-align: top;\n",
       "    }\n",
       "\n",
       "    .dataframe thead th {\n",
       "        text-align: right;\n",
       "    }\n",
       "</style>\n",
       "<table border=\"1\" class=\"dataframe\">\n",
       "  <thead>\n",
       "    <tr style=\"text-align: right;\">\n",
       "      <th></th>\n",
       "      <th>Gender</th>\n",
       "      <th>Weight</th>\n",
       "      <th>Age</th>\n",
       "      <th>Height</th>\n",
       "      <th>Duration</th>\n",
       "      <th>Heart_Rate</th>\n",
       "      <th>Body_Temp</th>\n",
       "    </tr>\n",
       "  </thead>\n",
       "  <tbody>\n",
       "    <tr>\n",
       "      <th>0</th>\n",
       "      <td>0.0</td>\n",
       "      <td>66.0</td>\n",
       "      <td>47.0</td>\n",
       "      <td>157.0</td>\n",
       "      <td>22.0</td>\n",
       "      <td>96.0</td>\n",
       "      <td>40.4</td>\n",
       "    </tr>\n",
       "    <tr>\n",
       "      <th>1</th>\n",
       "      <td>1.0</td>\n",
       "      <td>86.0</td>\n",
       "      <td>35.0</td>\n",
       "      <td>190.0</td>\n",
       "      <td>8.0</td>\n",
       "      <td>93.0</td>\n",
       "      <td>39.5</td>\n",
       "    </tr>\n",
       "    <tr>\n",
       "      <th>2</th>\n",
       "      <td>0.0</td>\n",
       "      <td>56.0</td>\n",
       "      <td>45.0</td>\n",
       "      <td>158.0</td>\n",
       "      <td>11.0</td>\n",
       "      <td>87.0</td>\n",
       "      <td>39.7</td>\n",
       "    </tr>\n",
       "    <tr>\n",
       "      <th>3</th>\n",
       "      <td>0.0</td>\n",
       "      <td>75.0</td>\n",
       "      <td>27.0</td>\n",
       "      <td>181.0</td>\n",
       "      <td>10.0</td>\n",
       "      <td>89.0</td>\n",
       "      <td>39.6</td>\n",
       "    </tr>\n",
       "    <tr>\n",
       "      <th>4</th>\n",
       "      <td>1.0</td>\n",
       "      <td>82.0</td>\n",
       "      <td>48.0</td>\n",
       "      <td>179.0</td>\n",
       "      <td>11.0</td>\n",
       "      <td>90.0</td>\n",
       "      <td>39.6</td>\n",
       "    </tr>\n",
       "  </tbody>\n",
       "</table>\n",
       "</div>"
      ],
      "text/plain": [
       "   Gender  Weight   Age  Height  Duration  Heart_Rate  Body_Temp\n",
       "0     0.0    66.0  47.0   157.0      22.0        96.0       40.4\n",
       "1     1.0    86.0  35.0   190.0       8.0        93.0       39.5\n",
       "2     0.0    56.0  45.0   158.0      11.0        87.0       39.7\n",
       "3     0.0    75.0  27.0   181.0      10.0        89.0       39.6\n",
       "4     1.0    82.0  48.0   179.0      11.0        90.0       39.6"
      ]
     },
     "execution_count": 17,
     "metadata": {},
     "output_type": "execute_result"
    }
   ],
   "source": [
    "X_test_.head()"
   ]
  },
  {
   "cell_type": "code",
   "execution_count": 18,
   "id": "147c4e2c-982c-4a4a-8ecf-f09c5eab63be",
   "metadata": {},
   "outputs": [],
   "source": [
    "# now we have our X_test_ and X_train_\n",
    "# we have to scale this using Standardisation and also we have to look for multicolinearity before applying the model"
   ]
  },
  {
   "cell_type": "markdown",
   "id": "962ef295-381c-412d-ba4f-665af200a68c",
   "metadata": {},
   "source": [
    "# Standard Scaling"
   ]
  },
  {
   "cell_type": "code",
   "execution_count": 19,
   "id": "cbe71d8d-f838-4477-a866-c9c9a608ba03",
   "metadata": {},
   "outputs": [],
   "source": [
    "from sklearn.preprocessing import StandardScaler"
   ]
  },
  {
   "cell_type": "code",
   "execution_count": 20,
   "id": "9bd59080-9e2f-4530-8e54-a3bf4e19044d",
   "metadata": {},
   "outputs": [],
   "source": [
    "ss=StandardScaler()\n",
    "X_train=ss.fit_transform(X_train_)\n",
    "X_test=ss.transform(X_test_)"
   ]
  },
  {
   "cell_type": "code",
   "execution_count": 21,
   "id": "5c5b5e4c-6740-4622-b8ea-f4128b785cf6",
   "metadata": {},
   "outputs": [],
   "source": [
    "X_train_f=pd.DataFrame(X_train,columns=['Gender','Weight','Age','Height','Duration','Heart_Rate','Body_Temp'])\n",
    "X_test_f=pd.DataFrame(X_test,columns=['Gender','Weight','Age','Height','Duration','Heart_Rate','Body_Temp'])"
   ]
  },
  {
   "cell_type": "code",
   "execution_count": 22,
   "id": "c74d0802-d824-4bcf-8277-d18fa55ae1d5",
   "metadata": {},
   "outputs": [
    {
     "data": {
      "text/html": [
       "<div>\n",
       "<style scoped>\n",
       "    .dataframe tbody tr th:only-of-type {\n",
       "        vertical-align: middle;\n",
       "    }\n",
       "\n",
       "    .dataframe tbody tr th {\n",
       "        vertical-align: top;\n",
       "    }\n",
       "\n",
       "    .dataframe thead th {\n",
       "        text-align: right;\n",
       "    }\n",
       "</style>\n",
       "<table border=\"1\" class=\"dataframe\">\n",
       "  <thead>\n",
       "    <tr style=\"text-align: right;\">\n",
       "      <th></th>\n",
       "      <th>Gender</th>\n",
       "      <th>Weight</th>\n",
       "      <th>Age</th>\n",
       "      <th>Height</th>\n",
       "      <th>Duration</th>\n",
       "      <th>Heart_Rate</th>\n",
       "      <th>Body_Temp</th>\n",
       "    </tr>\n",
       "  </thead>\n",
       "  <tbody>\n",
       "    <tr>\n",
       "      <th>0</th>\n",
       "      <td>1.001423</td>\n",
       "      <td>0.263882</td>\n",
       "      <td>-1.098015</td>\n",
       "      <td>0.313174</td>\n",
       "      <td>-1.389615</td>\n",
       "      <td>-2.036138</td>\n",
       "      <td>-1.578531</td>\n",
       "    </tr>\n",
       "    <tr>\n",
       "      <th>1</th>\n",
       "      <td>-0.998579</td>\n",
       "      <td>-0.599474</td>\n",
       "      <td>1.132599</td>\n",
       "      <td>-0.247601</td>\n",
       "      <td>0.890970</td>\n",
       "      <td>0.773805</td>\n",
       "      <td>0.477964</td>\n",
       "    </tr>\n",
       "    <tr>\n",
       "      <th>2</th>\n",
       "      <td>1.001423</td>\n",
       "      <td>0.928003</td>\n",
       "      <td>1.250000</td>\n",
       "      <td>0.663659</td>\n",
       "      <td>0.050754</td>\n",
       "      <td>0.669733</td>\n",
       "      <td>0.349433</td>\n",
       "    </tr>\n",
       "    <tr>\n",
       "      <th>3</th>\n",
       "      <td>-0.998579</td>\n",
       "      <td>-0.665886</td>\n",
       "      <td>-0.511012</td>\n",
       "      <td>-0.387795</td>\n",
       "      <td>-1.629676</td>\n",
       "      <td>-1.411706</td>\n",
       "      <td>-2.863840</td>\n",
       "    </tr>\n",
       "    <tr>\n",
       "      <th>4</th>\n",
       "      <td>-0.998579</td>\n",
       "      <td>-0.732298</td>\n",
       "      <td>0.193393</td>\n",
       "      <td>-0.247601</td>\n",
       "      <td>-1.509646</td>\n",
       "      <td>-0.162843</td>\n",
       "      <td>-1.964124</td>\n",
       "    </tr>\n",
       "  </tbody>\n",
       "</table>\n",
       "</div>"
      ],
      "text/plain": [
       "     Gender    Weight       Age    Height  Duration  Heart_Rate  Body_Temp\n",
       "0  1.001423  0.263882 -1.098015  0.313174 -1.389615   -2.036138  -1.578531\n",
       "1 -0.998579 -0.599474  1.132599 -0.247601  0.890970    0.773805   0.477964\n",
       "2  1.001423  0.928003  1.250000  0.663659  0.050754    0.669733   0.349433\n",
       "3 -0.998579 -0.665886 -0.511012 -0.387795 -1.629676   -1.411706  -2.863840\n",
       "4 -0.998579 -0.732298  0.193393 -0.247601 -1.509646   -0.162843  -1.964124"
      ]
     },
     "execution_count": 22,
     "metadata": {},
     "output_type": "execute_result"
    }
   ],
   "source": [
    "X_train_f.head()"
   ]
  },
  {
   "cell_type": "code",
   "execution_count": 23,
   "id": "c35c7e9d-2cc7-4d94-9ed3-4d21b293962c",
   "metadata": {},
   "outputs": [
    {
     "data": {
      "text/html": [
       "<div>\n",
       "<style scoped>\n",
       "    .dataframe tbody tr th:only-of-type {\n",
       "        vertical-align: middle;\n",
       "    }\n",
       "\n",
       "    .dataframe tbody tr th {\n",
       "        vertical-align: top;\n",
       "    }\n",
       "\n",
       "    .dataframe thead th {\n",
       "        text-align: right;\n",
       "    }\n",
       "</style>\n",
       "<table border=\"1\" class=\"dataframe\">\n",
       "  <thead>\n",
       "    <tr style=\"text-align: right;\">\n",
       "      <th></th>\n",
       "      <th>Gender</th>\n",
       "      <th>Weight</th>\n",
       "      <th>Age</th>\n",
       "      <th>Height</th>\n",
       "      <th>Duration</th>\n",
       "      <th>Heart_Rate</th>\n",
       "      <th>Body_Temp</th>\n",
       "    </tr>\n",
       "  </thead>\n",
       "  <tbody>\n",
       "    <tr>\n",
       "      <th>0</th>\n",
       "      <td>-0.998579</td>\n",
       "      <td>-0.599474</td>\n",
       "      <td>0.252093</td>\n",
       "      <td>-1.228957</td>\n",
       "      <td>0.770939</td>\n",
       "      <td>0.045301</td>\n",
       "      <td>0.477964</td>\n",
       "    </tr>\n",
       "    <tr>\n",
       "      <th>1</th>\n",
       "      <td>1.001423</td>\n",
       "      <td>0.728767</td>\n",
       "      <td>-0.452311</td>\n",
       "      <td>1.084240</td>\n",
       "      <td>-0.909492</td>\n",
       "      <td>-0.266915</td>\n",
       "      <td>-0.678815</td>\n",
       "    </tr>\n",
       "    <tr>\n",
       "      <th>2</th>\n",
       "      <td>-0.998579</td>\n",
       "      <td>-1.263594</td>\n",
       "      <td>0.134693</td>\n",
       "      <td>-1.158860</td>\n",
       "      <td>-0.549399</td>\n",
       "      <td>-0.891346</td>\n",
       "      <td>-0.421753</td>\n",
       "    </tr>\n",
       "    <tr>\n",
       "      <th>3</th>\n",
       "      <td>-0.998579</td>\n",
       "      <td>-0.001766</td>\n",
       "      <td>-0.921914</td>\n",
       "      <td>0.453368</td>\n",
       "      <td>-0.669430</td>\n",
       "      <td>-0.683203</td>\n",
       "      <td>-0.550284</td>\n",
       "    </tr>\n",
       "    <tr>\n",
       "      <th>4</th>\n",
       "      <td>1.001423</td>\n",
       "      <td>0.463119</td>\n",
       "      <td>0.310794</td>\n",
       "      <td>0.313174</td>\n",
       "      <td>-0.549399</td>\n",
       "      <td>-0.579131</td>\n",
       "      <td>-0.550284</td>\n",
       "    </tr>\n",
       "    <tr>\n",
       "      <th>...</th>\n",
       "      <td>...</td>\n",
       "      <td>...</td>\n",
       "      <td>...</td>\n",
       "      <td>...</td>\n",
       "      <td>...</td>\n",
       "      <td>...</td>\n",
       "      <td>...</td>\n",
       "    </tr>\n",
       "    <tr>\n",
       "      <th>3745</th>\n",
       "      <td>1.001423</td>\n",
       "      <td>1.791359</td>\n",
       "      <td>-0.158809</td>\n",
       "      <td>1.504821</td>\n",
       "      <td>-1.269584</td>\n",
       "      <td>-0.475059</td>\n",
       "      <td>-1.192938</td>\n",
       "    </tr>\n",
       "    <tr>\n",
       "      <th>3746</th>\n",
       "      <td>1.001423</td>\n",
       "      <td>0.861591</td>\n",
       "      <td>0.134693</td>\n",
       "      <td>0.663659</td>\n",
       "      <td>-0.069276</td>\n",
       "      <td>0.149373</td>\n",
       "      <td>-0.036160</td>\n",
       "    </tr>\n",
       "    <tr>\n",
       "      <th>3747</th>\n",
       "      <td>1.001423</td>\n",
       "      <td>0.595943</td>\n",
       "      <td>-0.393611</td>\n",
       "      <td>0.453368</td>\n",
       "      <td>-1.509646</td>\n",
       "      <td>-1.932066</td>\n",
       "      <td>-1.835593</td>\n",
       "    </tr>\n",
       "    <tr>\n",
       "      <th>3748</th>\n",
       "      <td>-0.998579</td>\n",
       "      <td>-1.263594</td>\n",
       "      <td>-0.745813</td>\n",
       "      <td>-0.948570</td>\n",
       "      <td>-0.069276</td>\n",
       "      <td>-0.058771</td>\n",
       "      <td>-0.164691</td>\n",
       "    </tr>\n",
       "    <tr>\n",
       "      <th>3749</th>\n",
       "      <td>-0.998579</td>\n",
       "      <td>-0.931534</td>\n",
       "      <td>1.895704</td>\n",
       "      <td>-0.738279</td>\n",
       "      <td>-1.389615</td>\n",
       "      <td>-0.683203</td>\n",
       "      <td>-1.450000</td>\n",
       "    </tr>\n",
       "  </tbody>\n",
       "</table>\n",
       "<p>3750 rows × 7 columns</p>\n",
       "</div>"
      ],
      "text/plain": [
       "        Gender    Weight       Age    Height  Duration  Heart_Rate  Body_Temp\n",
       "0    -0.998579 -0.599474  0.252093 -1.228957  0.770939    0.045301   0.477964\n",
       "1     1.001423  0.728767 -0.452311  1.084240 -0.909492   -0.266915  -0.678815\n",
       "2    -0.998579 -1.263594  0.134693 -1.158860 -0.549399   -0.891346  -0.421753\n",
       "3    -0.998579 -0.001766 -0.921914  0.453368 -0.669430   -0.683203  -0.550284\n",
       "4     1.001423  0.463119  0.310794  0.313174 -0.549399   -0.579131  -0.550284\n",
       "...        ...       ...       ...       ...       ...         ...        ...\n",
       "3745  1.001423  1.791359 -0.158809  1.504821 -1.269584   -0.475059  -1.192938\n",
       "3746  1.001423  0.861591  0.134693  0.663659 -0.069276    0.149373  -0.036160\n",
       "3747  1.001423  0.595943 -0.393611  0.453368 -1.509646   -1.932066  -1.835593\n",
       "3748 -0.998579 -1.263594 -0.745813 -0.948570 -0.069276   -0.058771  -0.164691\n",
       "3749 -0.998579 -0.931534  1.895704 -0.738279 -1.389615   -0.683203  -1.450000\n",
       "\n",
       "[3750 rows x 7 columns]"
      ]
     },
     "execution_count": 23,
     "metadata": {},
     "output_type": "execute_result"
    }
   ],
   "source": [
    "# so finally after scaling we have \n",
    "X_train_f\n",
    "X_test_f \n",
    "# now lets apply it on the model"
   ]
  },
  {
   "cell_type": "code",
   "execution_count": 24,
   "id": "e14c9f51-3ec2-4e3a-9a1e-46c4f4f359db",
   "metadata": {},
   "outputs": [],
   "source": [
    "from sklearn.linear_model import LinearRegression\n",
    "from sklearn.metrics import r2_score,mean_absolute_error"
   ]
  },
  {
   "cell_type": "code",
   "execution_count": 25,
   "id": "302894f3-a918-482b-83ab-85e8f367fce4",
   "metadata": {},
   "outputs": [],
   "source": [
    "lr=LinearRegression()\n"
   ]
  },
  {
   "cell_type": "code",
   "execution_count": 26,
   "id": "00c5dd6d-83b0-4892-ae07-bb4870e682c4",
   "metadata": {},
   "outputs": [
    {
     "data": {
      "text/html": [
       "<style>#sk-container-id-1 {color: black;}#sk-container-id-1 pre{padding: 0;}#sk-container-id-1 div.sk-toggleable {background-color: white;}#sk-container-id-1 label.sk-toggleable__label {cursor: pointer;display: block;width: 100%;margin-bottom: 0;padding: 0.3em;box-sizing: border-box;text-align: center;}#sk-container-id-1 label.sk-toggleable__label-arrow:before {content: \"▸\";float: left;margin-right: 0.25em;color: #696969;}#sk-container-id-1 label.sk-toggleable__label-arrow:hover:before {color: black;}#sk-container-id-1 div.sk-estimator:hover label.sk-toggleable__label-arrow:before {color: black;}#sk-container-id-1 div.sk-toggleable__content {max-height: 0;max-width: 0;overflow: hidden;text-align: left;background-color: #f0f8ff;}#sk-container-id-1 div.sk-toggleable__content pre {margin: 0.2em;color: black;border-radius: 0.25em;background-color: #f0f8ff;}#sk-container-id-1 input.sk-toggleable__control:checked~div.sk-toggleable__content {max-height: 200px;max-width: 100%;overflow: auto;}#sk-container-id-1 input.sk-toggleable__control:checked~label.sk-toggleable__label-arrow:before {content: \"▾\";}#sk-container-id-1 div.sk-estimator input.sk-toggleable__control:checked~label.sk-toggleable__label {background-color: #d4ebff;}#sk-container-id-1 div.sk-label input.sk-toggleable__control:checked~label.sk-toggleable__label {background-color: #d4ebff;}#sk-container-id-1 input.sk-hidden--visually {border: 0;clip: rect(1px 1px 1px 1px);clip: rect(1px, 1px, 1px, 1px);height: 1px;margin: -1px;overflow: hidden;padding: 0;position: absolute;width: 1px;}#sk-container-id-1 div.sk-estimator {font-family: monospace;background-color: #f0f8ff;border: 1px dotted black;border-radius: 0.25em;box-sizing: border-box;margin-bottom: 0.5em;}#sk-container-id-1 div.sk-estimator:hover {background-color: #d4ebff;}#sk-container-id-1 div.sk-parallel-item::after {content: \"\";width: 100%;border-bottom: 1px solid gray;flex-grow: 1;}#sk-container-id-1 div.sk-label:hover label.sk-toggleable__label {background-color: #d4ebff;}#sk-container-id-1 div.sk-serial::before {content: \"\";position: absolute;border-left: 1px solid gray;box-sizing: border-box;top: 0;bottom: 0;left: 50%;z-index: 0;}#sk-container-id-1 div.sk-serial {display: flex;flex-direction: column;align-items: center;background-color: white;padding-right: 0.2em;padding-left: 0.2em;position: relative;}#sk-container-id-1 div.sk-item {position: relative;z-index: 1;}#sk-container-id-1 div.sk-parallel {display: flex;align-items: stretch;justify-content: center;background-color: white;position: relative;}#sk-container-id-1 div.sk-item::before, #sk-container-id-1 div.sk-parallel-item::before {content: \"\";position: absolute;border-left: 1px solid gray;box-sizing: border-box;top: 0;bottom: 0;left: 50%;z-index: -1;}#sk-container-id-1 div.sk-parallel-item {display: flex;flex-direction: column;z-index: 1;position: relative;background-color: white;}#sk-container-id-1 div.sk-parallel-item:first-child::after {align-self: flex-end;width: 50%;}#sk-container-id-1 div.sk-parallel-item:last-child::after {align-self: flex-start;width: 50%;}#sk-container-id-1 div.sk-parallel-item:only-child::after {width: 0;}#sk-container-id-1 div.sk-dashed-wrapped {border: 1px dashed gray;margin: 0 0.4em 0.5em 0.4em;box-sizing: border-box;padding-bottom: 0.4em;background-color: white;}#sk-container-id-1 div.sk-label label {font-family: monospace;font-weight: bold;display: inline-block;line-height: 1.2em;}#sk-container-id-1 div.sk-label-container {text-align: center;}#sk-container-id-1 div.sk-container {/* jupyter's `normalize.less` sets `[hidden] { display: none; }` but bootstrap.min.css set `[hidden] { display: none !important; }` so we also need the `!important` here to be able to override the default hidden behavior on the sphinx rendered scikit-learn.org. See: https://github.com/scikit-learn/scikit-learn/issues/21755 */display: inline-block !important;position: relative;}#sk-container-id-1 div.sk-text-repr-fallback {display: none;}</style><div id=\"sk-container-id-1\" class=\"sk-top-container\"><div class=\"sk-text-repr-fallback\"><pre>LinearRegression()</pre><b>In a Jupyter environment, please rerun this cell to show the HTML representation or trust the notebook. <br />On GitHub, the HTML representation is unable to render, please try loading this page with nbviewer.org.</b></div><div class=\"sk-container\" hidden><div class=\"sk-item\"><div class=\"sk-estimator sk-toggleable\"><input class=\"sk-toggleable__control sk-hidden--visually\" id=\"sk-estimator-id-1\" type=\"checkbox\" checked><label for=\"sk-estimator-id-1\" class=\"sk-toggleable__label sk-toggleable__label-arrow\">LinearRegression</label><div class=\"sk-toggleable__content\"><pre>LinearRegression()</pre></div></div></div></div></div>"
      ],
      "text/plain": [
       "LinearRegression()"
      ]
     },
     "execution_count": 26,
     "metadata": {},
     "output_type": "execute_result"
    }
   ],
   "source": [
    "lr.fit(X_train_f,Y_train)"
   ]
  },
  {
   "cell_type": "code",
   "execution_count": 27,
   "id": "88d298a9-cd67-46fa-8bce-ea3f17f97452",
   "metadata": {},
   "outputs": [],
   "source": [
    "Y_predict=lr.predict(X_test_f)"
   ]
  },
  {
   "cell_type": "code",
   "execution_count": 28,
   "id": "16f0dfa5-7997-4b47-bcfb-10682c23f192",
   "metadata": {},
   "outputs": [
    {
     "name": "stdout",
     "output_type": "stream",
     "text": [
      "0.9665069438314284\n"
     ]
    }
   ],
   "source": [
    "print(r2_score(Y_predict,Y_test))"
   ]
  },
  {
   "cell_type": "code",
   "execution_count": 29,
   "id": "a92cbb7b-ed2c-4e8e-847f-b5794c4d4c3d",
   "metadata": {},
   "outputs": [
    {
     "name": "stdout",
     "output_type": "stream",
     "text": [
      "8.265252450064084\n"
     ]
    }
   ],
   "source": [
    "print(mean_absolute_error(Y_predict,Y_test))"
   ]
  },
  {
   "cell_type": "code",
   "execution_count": 30,
   "id": "0f9bce2a-d95f-495a-a4f1-1331ef9f15ff",
   "metadata": {},
   "outputs": [],
   "source": [
    "def r2_adjusted(r):\n",
    "    a=1-((1-r)*(3749))/(3743)\n",
    "    return a"
   ]
  },
  {
   "cell_type": "code",
   "execution_count": 47,
   "id": "bd8b1cab-cf05-4c1e-b381-077cb1918fbf",
   "metadata": {},
   "outputs": [
    {
     "data": {
      "text/plain": [
       "0.9664532547218876"
      ]
     },
     "execution_count": 47,
     "metadata": {},
     "output_type": "execute_result"
    }
   ],
   "source": [
    "r2_adjusted(0.9665069438314284)"
   ]
  },
  {
   "cell_type": "code",
   "execution_count": 32,
   "id": "ebfe7769-cbc6-449b-82b6-7df190faf96c",
   "metadata": {},
   "outputs": [
    {
     "name": "stdout",
     "output_type": "stream",
     "text": [
      "avg: 0.9670805257127706\n"
     ]
    }
   ],
   "source": [
    "# Let us cross validate it using cross validation techniques\n",
    "print('avg:',np.mean(cross_val_score(lr,X_test_f,Y_test,cv=20)))"
   ]
  },
  {
   "cell_type": "markdown",
   "id": "1fe7a0d5-b3ab-4db9-aeae-2bf5e3a51908",
   "metadata": {},
   "source": [
    "# USING MIN MAX SCALER "
   ]
  },
  {
   "cell_type": "code",
   "execution_count": 33,
   "id": "42e3a54a-3aff-4861-ab44-36ce62220045",
   "metadata": {},
   "outputs": [],
   "source": [
    "from sklearn.preprocessing import MinMaxScaler"
   ]
  },
  {
   "cell_type": "code",
   "execution_count": 34,
   "id": "3f270ae4-9a59-4ef5-8079-b76d8d759c14",
   "metadata": {},
   "outputs": [],
   "source": [
    "mm=MinMaxScaler()"
   ]
  },
  {
   "cell_type": "code",
   "execution_count": 35,
   "id": "343a1ba3-1f49-4229-9a64-a4e8383ec5da",
   "metadata": {},
   "outputs": [],
   "source": [
    "X_train_m=mm.fit_transform(X_train_)\n",
    "X_test_m=mm.fit_transform(X_test_)"
   ]
  },
  {
   "cell_type": "code",
   "execution_count": 36,
   "id": "61e0ad5c-6575-40ca-aa6d-74ccfe08beff",
   "metadata": {},
   "outputs": [
    {
     "data": {
      "text/plain": [
       "array([[1.        , 0.44791667, 0.06779661, ..., 0.10344828, 0.14754098,\n",
       "        0.37209302],\n",
       "       [0.        , 0.3125    , 0.71186441, ..., 0.75862069, 0.59016393,\n",
       "        0.74418605],\n",
       "       [1.        , 0.55208333, 0.74576271, ..., 0.51724138, 0.57377049,\n",
       "        0.72093023],\n",
       "       ...,\n",
       "       [0.        , 0.36458333, 0.61016949, ..., 0.86206897, 0.44262295,\n",
       "        0.79069767],\n",
       "       [1.        , 0.54166667, 0.03389831, ..., 0.93103448, 0.63934426,\n",
       "        0.8372093 ],\n",
       "       [0.        , 0.125     , 0.06779661, ..., 0.5862069 , 0.39344262,\n",
       "        0.76744186]])"
      ]
     },
     "execution_count": 36,
     "metadata": {},
     "output_type": "execute_result"
    }
   ],
   "source": [
    "X_train_m"
   ]
  },
  {
   "cell_type": "code",
   "execution_count": 37,
   "id": "23bc0ad2-6353-4377-9dd3-cd5cbda02413",
   "metadata": {},
   "outputs": [],
   "source": [
    "X_train_f2=pd.DataFrame(X_train_m,columns=['Gender','Weight','Age','Height','Duration','Heart_Rate','Body_Temp'])\n",
    "X_test_f2=pd.DataFrame(X_test_m,columns=['Gender','Weight','Age','Height','Duration','Heart_Rate','Body_Temp'])"
   ]
  },
  {
   "cell_type": "code",
   "execution_count": 38,
   "id": "2e326e65-a733-4218-85d6-1f6700d5ce7e",
   "metadata": {},
   "outputs": [
    {
     "data": {
      "text/html": [
       "<div>\n",
       "<style scoped>\n",
       "    .dataframe tbody tr th:only-of-type {\n",
       "        vertical-align: middle;\n",
       "    }\n",
       "\n",
       "    .dataframe tbody tr th {\n",
       "        vertical-align: top;\n",
       "    }\n",
       "\n",
       "    .dataframe thead th {\n",
       "        text-align: right;\n",
       "    }\n",
       "</style>\n",
       "<table border=\"1\" class=\"dataframe\">\n",
       "  <thead>\n",
       "    <tr style=\"text-align: right;\">\n",
       "      <th></th>\n",
       "      <th>Gender</th>\n",
       "      <th>Weight</th>\n",
       "      <th>Age</th>\n",
       "      <th>Height</th>\n",
       "      <th>Duration</th>\n",
       "      <th>Heart_Rate</th>\n",
       "      <th>Body_Temp</th>\n",
       "    </tr>\n",
       "  </thead>\n",
       "  <tbody>\n",
       "    <tr>\n",
       "      <th>0</th>\n",
       "      <td>1.0</td>\n",
       "      <td>0.447917</td>\n",
       "      <td>0.067797</td>\n",
       "      <td>0.547368</td>\n",
       "      <td>0.103448</td>\n",
       "      <td>0.147541</td>\n",
       "      <td>0.372093</td>\n",
       "    </tr>\n",
       "    <tr>\n",
       "      <th>1</th>\n",
       "      <td>0.0</td>\n",
       "      <td>0.312500</td>\n",
       "      <td>0.711864</td>\n",
       "      <td>0.463158</td>\n",
       "      <td>0.758621</td>\n",
       "      <td>0.590164</td>\n",
       "      <td>0.744186</td>\n",
       "    </tr>\n",
       "    <tr>\n",
       "      <th>2</th>\n",
       "      <td>1.0</td>\n",
       "      <td>0.552083</td>\n",
       "      <td>0.745763</td>\n",
       "      <td>0.600000</td>\n",
       "      <td>0.517241</td>\n",
       "      <td>0.573770</td>\n",
       "      <td>0.720930</td>\n",
       "    </tr>\n",
       "    <tr>\n",
       "      <th>3</th>\n",
       "      <td>0.0</td>\n",
       "      <td>0.302083</td>\n",
       "      <td>0.237288</td>\n",
       "      <td>0.442105</td>\n",
       "      <td>0.034483</td>\n",
       "      <td>0.245902</td>\n",
       "      <td>0.139535</td>\n",
       "    </tr>\n",
       "    <tr>\n",
       "      <th>4</th>\n",
       "      <td>0.0</td>\n",
       "      <td>0.291667</td>\n",
       "      <td>0.440678</td>\n",
       "      <td>0.463158</td>\n",
       "      <td>0.068966</td>\n",
       "      <td>0.442623</td>\n",
       "      <td>0.302326</td>\n",
       "    </tr>\n",
       "  </tbody>\n",
       "</table>\n",
       "</div>"
      ],
      "text/plain": [
       "   Gender    Weight       Age    Height  Duration  Heart_Rate  Body_Temp\n",
       "0     1.0  0.447917  0.067797  0.547368  0.103448    0.147541   0.372093\n",
       "1     0.0  0.312500  0.711864  0.463158  0.758621    0.590164   0.744186\n",
       "2     1.0  0.552083  0.745763  0.600000  0.517241    0.573770   0.720930\n",
       "3     0.0  0.302083  0.237288  0.442105  0.034483    0.245902   0.139535\n",
       "4     0.0  0.291667  0.440678  0.463158  0.068966    0.442623   0.302326"
      ]
     },
     "execution_count": 38,
     "metadata": {},
     "output_type": "execute_result"
    }
   ],
   "source": [
    "X_train_f2.head()"
   ]
  },
  {
   "cell_type": "code",
   "execution_count": 39,
   "id": "88ae5df7-c789-49e9-b011-1b433f964901",
   "metadata": {},
   "outputs": [],
   "source": [
    "# now we shall use this data for training our model \n",
    "lr2=LinearRegression()"
   ]
  },
  {
   "cell_type": "code",
   "execution_count": 40,
   "id": "e59bf766-e1af-4991-af01-9efb1a6b781b",
   "metadata": {},
   "outputs": [
    {
     "data": {
      "text/html": [
       "<style>#sk-container-id-2 {color: black;}#sk-container-id-2 pre{padding: 0;}#sk-container-id-2 div.sk-toggleable {background-color: white;}#sk-container-id-2 label.sk-toggleable__label {cursor: pointer;display: block;width: 100%;margin-bottom: 0;padding: 0.3em;box-sizing: border-box;text-align: center;}#sk-container-id-2 label.sk-toggleable__label-arrow:before {content: \"▸\";float: left;margin-right: 0.25em;color: #696969;}#sk-container-id-2 label.sk-toggleable__label-arrow:hover:before {color: black;}#sk-container-id-2 div.sk-estimator:hover label.sk-toggleable__label-arrow:before {color: black;}#sk-container-id-2 div.sk-toggleable__content {max-height: 0;max-width: 0;overflow: hidden;text-align: left;background-color: #f0f8ff;}#sk-container-id-2 div.sk-toggleable__content pre {margin: 0.2em;color: black;border-radius: 0.25em;background-color: #f0f8ff;}#sk-container-id-2 input.sk-toggleable__control:checked~div.sk-toggleable__content {max-height: 200px;max-width: 100%;overflow: auto;}#sk-container-id-2 input.sk-toggleable__control:checked~label.sk-toggleable__label-arrow:before {content: \"▾\";}#sk-container-id-2 div.sk-estimator input.sk-toggleable__control:checked~label.sk-toggleable__label {background-color: #d4ebff;}#sk-container-id-2 div.sk-label input.sk-toggleable__control:checked~label.sk-toggleable__label {background-color: #d4ebff;}#sk-container-id-2 input.sk-hidden--visually {border: 0;clip: rect(1px 1px 1px 1px);clip: rect(1px, 1px, 1px, 1px);height: 1px;margin: -1px;overflow: hidden;padding: 0;position: absolute;width: 1px;}#sk-container-id-2 div.sk-estimator {font-family: monospace;background-color: #f0f8ff;border: 1px dotted black;border-radius: 0.25em;box-sizing: border-box;margin-bottom: 0.5em;}#sk-container-id-2 div.sk-estimator:hover {background-color: #d4ebff;}#sk-container-id-2 div.sk-parallel-item::after {content: \"\";width: 100%;border-bottom: 1px solid gray;flex-grow: 1;}#sk-container-id-2 div.sk-label:hover label.sk-toggleable__label {background-color: #d4ebff;}#sk-container-id-2 div.sk-serial::before {content: \"\";position: absolute;border-left: 1px solid gray;box-sizing: border-box;top: 0;bottom: 0;left: 50%;z-index: 0;}#sk-container-id-2 div.sk-serial {display: flex;flex-direction: column;align-items: center;background-color: white;padding-right: 0.2em;padding-left: 0.2em;position: relative;}#sk-container-id-2 div.sk-item {position: relative;z-index: 1;}#sk-container-id-2 div.sk-parallel {display: flex;align-items: stretch;justify-content: center;background-color: white;position: relative;}#sk-container-id-2 div.sk-item::before, #sk-container-id-2 div.sk-parallel-item::before {content: \"\";position: absolute;border-left: 1px solid gray;box-sizing: border-box;top: 0;bottom: 0;left: 50%;z-index: -1;}#sk-container-id-2 div.sk-parallel-item {display: flex;flex-direction: column;z-index: 1;position: relative;background-color: white;}#sk-container-id-2 div.sk-parallel-item:first-child::after {align-self: flex-end;width: 50%;}#sk-container-id-2 div.sk-parallel-item:last-child::after {align-self: flex-start;width: 50%;}#sk-container-id-2 div.sk-parallel-item:only-child::after {width: 0;}#sk-container-id-2 div.sk-dashed-wrapped {border: 1px dashed gray;margin: 0 0.4em 0.5em 0.4em;box-sizing: border-box;padding-bottom: 0.4em;background-color: white;}#sk-container-id-2 div.sk-label label {font-family: monospace;font-weight: bold;display: inline-block;line-height: 1.2em;}#sk-container-id-2 div.sk-label-container {text-align: center;}#sk-container-id-2 div.sk-container {/* jupyter's `normalize.less` sets `[hidden] { display: none; }` but bootstrap.min.css set `[hidden] { display: none !important; }` so we also need the `!important` here to be able to override the default hidden behavior on the sphinx rendered scikit-learn.org. See: https://github.com/scikit-learn/scikit-learn/issues/21755 */display: inline-block !important;position: relative;}#sk-container-id-2 div.sk-text-repr-fallback {display: none;}</style><div id=\"sk-container-id-2\" class=\"sk-top-container\"><div class=\"sk-text-repr-fallback\"><pre>LinearRegression()</pre><b>In a Jupyter environment, please rerun this cell to show the HTML representation or trust the notebook. <br />On GitHub, the HTML representation is unable to render, please try loading this page with nbviewer.org.</b></div><div class=\"sk-container\" hidden><div class=\"sk-item\"><div class=\"sk-estimator sk-toggleable\"><input class=\"sk-toggleable__control sk-hidden--visually\" id=\"sk-estimator-id-2\" type=\"checkbox\" checked><label for=\"sk-estimator-id-2\" class=\"sk-toggleable__label sk-toggleable__label-arrow\">LinearRegression</label><div class=\"sk-toggleable__content\"><pre>LinearRegression()</pre></div></div></div></div></div>"
      ],
      "text/plain": [
       "LinearRegression()"
      ]
     },
     "execution_count": 40,
     "metadata": {},
     "output_type": "execute_result"
    }
   ],
   "source": [
    "lr2.fit(X_train_f2,Y_train)"
   ]
  },
  {
   "cell_type": "code",
   "execution_count": 41,
   "id": "e7b26750-883a-4a87-bd81-97ca27e9a6a5",
   "metadata": {},
   "outputs": [],
   "source": [
    "Y_pred2=lr2.predict(X_test_f2)"
   ]
  },
  {
   "cell_type": "code",
   "execution_count": 48,
   "id": "4eef6e78-66c4-4513-ba0f-1d0a06efcc71",
   "metadata": {},
   "outputs": [
    {
     "name": "stdout",
     "output_type": "stream",
     "text": [
      "8.875910606896847\n"
     ]
    }
   ],
   "source": [
    "print(mean_absolute_error(Y_pred2,Y_test))"
   ]
  },
  {
   "cell_type": "code",
   "execution_count": 42,
   "id": "b4f7f66c-4dc4-40f7-b74a-fbaaea09ce4d",
   "metadata": {},
   "outputs": [
    {
     "data": {
      "text/plain": [
       "0.966098125321932"
      ]
     },
     "execution_count": 42,
     "metadata": {},
     "output_type": "execute_result"
    }
   ],
   "source": [
    "a=r2_score(Y_pred2,Y_test)\n",
    "a"
   ]
  },
  {
   "cell_type": "code",
   "execution_count": 43,
   "id": "389ad8c1-de5a-40d4-88b0-db42a07ac543",
   "metadata": {},
   "outputs": [],
   "source": [
    "def r2_adjusted(r):\n",
    "    a=1-((1-r)*(3749))/(3743)\n",
    "    return a"
   ]
  },
  {
   "cell_type": "code",
   "execution_count": 44,
   "id": "2870113b-094e-4507-84b5-6743dbd6ea88",
   "metadata": {},
   "outputs": [
    {
     "data": {
      "text/plain": [
       "0.9660437808794878"
      ]
     },
     "execution_count": 44,
     "metadata": {},
     "output_type": "execute_result"
    }
   ],
   "source": [
    "r2_adjusted(a)"
   ]
  },
  {
   "cell_type": "code",
   "execution_count": 59,
   "id": "4d3742a3-998c-49c6-ba55-90f3b84b4bfd",
   "metadata": {},
   "outputs": [
    {
     "name": "stdout",
     "output_type": "stream",
     "text": [
      "avg: 0.9672722290670528\n"
     ]
    }
   ],
   "source": [
    "k_folds = KFold(n_splits = 5)\n",
    "print('avg:',np.mean(cross_val_score(lr2,X_test_f2,Y_test,cv=k_folds)))"
   ]
  },
  {
   "cell_type": "code",
   "execution_count": 46,
   "id": "969e39e9-0696-43f3-b3be-7153f269d8a2",
   "metadata": {},
   "outputs": [
    {
     "ename": "SyntaxError",
     "evalue": "invalid syntax (48129606.py, line 2)",
     "output_type": "error",
     "traceback": [
      "\u001b[1;36m  Cell \u001b[1;32mIn[46], line 2\u001b[1;36m\u001b[0m\n\u001b[1;33m    FUNCTION TRANSFORMER #to normalise the data\u001b[0m\n\u001b[1;37m             ^\u001b[0m\n\u001b[1;31mSyntaxError\u001b[0m\u001b[1;31m:\u001b[0m invalid syntax\n"
     ]
    }
   ],
   "source": [
    "# i can use more techniques\n",
    "FUNCTION TRANSFORMER #to normalise the data \n",
    "                     # can also work with outliers to improve the performance of the data set\n"
   ]
  }
 ],
 "metadata": {
  "kernelspec": {
   "display_name": "Python 3 (ipykernel)",
   "language": "python",
   "name": "python3"
  },
  "language_info": {
   "codemirror_mode": {
    "name": "ipython",
    "version": 3
   },
   "file_extension": ".py",
   "mimetype": "text/x-python",
   "name": "python",
   "nbconvert_exporter": "python",
   "pygments_lexer": "ipython3",
   "version": "3.11.4"
  }
 },
 "nbformat": 4,
 "nbformat_minor": 5
}
